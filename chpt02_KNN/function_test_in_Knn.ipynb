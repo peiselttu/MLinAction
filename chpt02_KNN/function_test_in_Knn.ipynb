{
 "cells": [
  {
   "cell_type": "code",
   "execution_count": 63,
   "metadata": {},
   "outputs": [],
   "source": [
    "import numpy as np\n",
    "import matplotlib.pyplot as plt"
   ]
  },
  {
   "cell_type": "code",
   "execution_count": 51,
   "metadata": {},
   "outputs": [],
   "source": [
    "with open('datingTestSet2.txt') as f:\n",
    "    data=f.readlines()"
   ]
  },
  {
   "cell_type": "code",
   "execution_count": 52,
   "metadata": {},
   "outputs": [
    {
     "data": {
      "text/plain": [
       "['40920', '8.326976', '0.953952', '3']"
      ]
     },
     "execution_count": 52,
     "metadata": {},
     "output_type": "execute_result"
    }
   ],
   "source": [
    "data[0].strip().split('\\t')"
   ]
  },
  {
   "cell_type": "code",
   "execution_count": 53,
   "metadata": {},
   "outputs": [],
   "source": [
    "def file2matrix(filename):\n",
    "    with open(filename) as f:\n",
    "        fileData=[data.strip().split('\\t') for data in f.readlines()]\n",
    "        returnMat=np.array(fileData)[:,:3].astype(float)\n",
    "        classLabelVector=np.array(fileData)[:,3].flatten()\n",
    "    return returnMat,classLabelVector"
   ]
  },
  {
   "cell_type": "code",
   "execution_count": 56,
   "metadata": {},
   "outputs": [],
   "source": [
    "returnMat,classLabelVector=file2matrix('datingTestSet2.txt')"
   ]
  },
  {
   "cell_type": "code",
   "execution_count": 57,
   "metadata": {},
   "outputs": [
    {
     "data": {
      "text/plain": [
       "array([[4.0920000e+04, 8.3269760e+00, 9.5395200e-01],\n",
       "       [1.4488000e+04, 7.1534690e+00, 1.6739040e+00],\n",
       "       [2.6052000e+04, 1.4418710e+00, 8.0512400e-01],\n",
       "       ...,\n",
       "       [2.6575000e+04, 1.0650102e+01, 8.6662700e-01],\n",
       "       [4.8111000e+04, 9.1345280e+00, 7.2804500e-01],\n",
       "       [4.3757000e+04, 7.8826010e+00, 1.3324460e+00]])"
      ]
     },
     "execution_count": 57,
     "metadata": {},
     "output_type": "execute_result"
    }
   ],
   "source": [
    "returnMat"
   ]
  },
  {
   "cell_type": "code",
   "execution_count": 58,
   "metadata": {},
   "outputs": [
    {
     "data": {
      "text/plain": [
       "array(['1', '2', '3'], dtype='<U9')"
      ]
     },
     "execution_count": 58,
     "metadata": {},
     "output_type": "execute_result"
    }
   ],
   "source": [
    "np.unique(classLabelVector)"
   ]
  },
  {
   "cell_type": "code",
   "execution_count": 72,
   "metadata": {},
   "outputs": [
    {
     "data": {
      "text/plain": [
       "array([2, 2, 2, 2, 2, 2, 2, 2, 2, 2, 2, 2, 2, 2, 2, 2, 2, 2, 2, 2, 2, 2,\n",
       "       2, 2, 2, 2, 2, 2, 2, 2, 2, 2, 2, 2, 2, 2, 2, 2, 2, 2, 2, 2, 2, 2,\n",
       "       2, 2, 2, 2, 2, 2, 2, 2, 2, 2, 2, 2, 2, 2, 2, 2, 2, 2, 2, 2, 2, 2,\n",
       "       2, 2, 2, 2, 2, 2, 2, 2, 2, 2, 2, 2, 2, 2, 2, 2, 2, 2, 2, 2, 2, 2,\n",
       "       2, 2, 2, 2, 2, 2, 2, 2, 2, 2, 2, 2, 2, 2, 2, 2, 2, 2, 2, 2, 2, 2,\n",
       "       2, 2, 2, 2, 2, 2, 2, 2, 2, 2, 2, 2, 2, 2, 2, 2, 2, 2, 2, 2, 2, 2,\n",
       "       2, 2, 2, 2, 2, 2, 2, 2, 2, 2, 2, 2, 2, 2, 2, 2, 2, 2, 2, 2, 2, 2,\n",
       "       2, 2, 2, 2, 2, 2, 2, 2, 2, 2, 2, 2, 2, 2, 2, 2, 2, 2, 2, 2, 2, 2,\n",
       "       2, 2, 2, 2, 2, 2, 2, 2, 2, 2, 2, 2, 2, 2, 2, 2, 2, 2, 2, 2, 2, 2,\n",
       "       2, 2, 2, 2, 2, 2, 2, 2, 2, 2, 2, 2, 2, 2, 2, 2, 2, 2, 2, 2, 2, 2,\n",
       "       2, 2, 2, 2, 2, 2, 2, 2, 2, 2, 2, 2, 2, 2, 2, 2, 2, 2, 2, 2, 2, 2,\n",
       "       2, 2, 2, 2, 2, 2, 2, 2, 2, 2, 2, 2, 2, 2, 2, 2, 2, 2, 2, 2, 2, 2,\n",
       "       2, 2, 2, 2, 2, 2, 2, 2, 2, 2, 2, 2, 2, 2, 2, 2, 2, 2, 2, 2, 2, 2,\n",
       "       2, 2, 2, 2, 2, 2, 2, 2, 2, 2, 2, 2, 2, 2, 2, 2, 2, 2, 2, 2, 2, 2,\n",
       "       2, 2, 2, 2, 2, 2, 2, 2, 2, 2, 2, 2, 2, 2, 2, 2, 2, 2, 2, 2, 2, 2,\n",
       "       2])"
      ]
     },
     "execution_count": 72,
     "metadata": {},
     "output_type": "execute_result"
    }
   ],
   "source": [
    "classLabelVector[classLabelVector=='2'].astype(int)"
   ]
  },
  {
   "cell_type": "code",
   "execution_count": 73,
   "metadata": {},
   "outputs": [
    {
     "data": {
      "text/plain": [
       "array([[4.0920000e+04, 8.3269760e+00, 9.5395200e-01],\n",
       "       [1.4488000e+04, 7.1534690e+00, 1.6739040e+00],\n",
       "       [2.6052000e+04, 1.4418710e+00, 8.0512400e-01],\n",
       "       ...,\n",
       "       [2.6575000e+04, 1.0650102e+01, 8.6662700e-01],\n",
       "       [4.8111000e+04, 9.1345280e+00, 7.2804500e-01],\n",
       "       [4.3757000e+04, 7.8826010e+00, 1.3324460e+00]])"
      ]
     },
     "execution_count": 73,
     "metadata": {},
     "output_type": "execute_result"
    }
   ],
   "source": [
    "returnMat"
   ]
  },
  {
   "cell_type": "code",
   "execution_count": 75,
   "metadata": {},
   "outputs": [
    {
     "data": {
      "text/plain": [
       "array([3, 2, 1, 1, 1, 1, 3, 3, 1, 3, 1, 1, 2, 1, 1, 1, 1, 1, 2, 3, 2, 1,\n",
       "       2, 3, 2, 3, 2, 3, 2, 1, 3, 1, 3, 1, 2, 1, 1, 2, 3, 3, 1, 2, 3, 3,\n",
       "       3, 1, 1, 1, 1, 2, 2, 1, 3, 2, 2, 2, 2, 3, 1, 2, 1, 2, 2, 2, 2, 2,\n",
       "       3, 2, 3, 1, 2, 3, 2, 2, 1, 3, 1, 1, 3, 3, 1, 2, 3, 1, 3, 1, 2, 2,\n",
       "       1, 1, 3, 3, 1, 2, 1, 3, 3, 2, 1, 1, 3, 1, 2, 3, 3, 2, 3, 3, 1, 2,\n",
       "       3, 2, 1, 3, 1, 2, 1, 1, 2, 3, 2, 3, 2, 3, 2, 1, 3, 3, 3, 1, 3, 2,\n",
       "       2, 3, 1, 3, 3, 3, 1, 3, 1, 1, 3, 3, 2, 3, 3, 1, 2, 3, 2, 2, 3, 3,\n",
       "       3, 1, 2, 2, 1, 1, 3, 2, 3, 3, 1, 2, 1, 3, 1, 2, 3, 2, 3, 1, 1, 1,\n",
       "       3, 2, 3, 1, 3, 2, 1, 3, 2, 2, 3, 2, 3, 2, 1, 1, 3, 1, 3, 2, 2, 2,\n",
       "       3, 2, 2, 1, 2, 2, 3, 1, 3, 3, 2, 1, 1, 1, 2, 1, 3, 3, 3, 3, 2, 1,\n",
       "       1, 1, 2, 3, 2, 1, 3, 1, 3, 2, 2, 3, 1, 3, 1, 1, 2, 1, 2, 2, 1, 3,\n",
       "       1, 3, 2, 3, 1, 2, 3, 1, 1, 1, 1, 2, 3, 2, 2, 3, 1, 2, 1, 1, 1, 3,\n",
       "       3, 2, 1, 1, 1, 2, 2, 3, 1, 1, 1, 2, 1, 1, 2, 1, 1, 1, 2, 2, 3, 2,\n",
       "       3, 3, 3, 3, 1, 2, 3, 1, 1, 1, 3, 1, 3, 2, 2, 1, 3, 1, 3, 2, 2, 1,\n",
       "       2, 2, 3, 1, 3, 2, 1, 1, 3, 3, 2, 3, 3, 2, 3, 1, 3, 1, 3, 3, 1, 3,\n",
       "       2, 1, 3, 1, 3, 2, 1, 2, 2, 1, 3, 1, 1, 3, 3, 2, 2, 3, 1, 2, 3, 3,\n",
       "       2, 2, 1, 1, 1, 1, 3, 2, 1, 1, 3, 2, 1, 1, 3, 3, 3, 2, 3, 2, 1, 1,\n",
       "       1, 1, 1, 3, 2, 2, 1, 2, 1, 3, 2, 1, 3, 2, 1, 3, 1, 1, 3, 3, 3, 3,\n",
       "       2, 1, 1, 2, 1, 3, 3, 2, 1, 2, 3, 2, 1, 2, 2, 2, 1, 1, 3, 1, 1, 2,\n",
       "       3, 1, 1, 2, 3, 1, 3, 1, 1, 2, 2, 1, 2, 2, 2, 3, 1, 1, 1, 3, 1, 3,\n",
       "       1, 3, 3, 1, 1, 1, 3, 2, 3, 3, 2, 2, 1, 1, 1, 2, 1, 2, 2, 3, 3, 3,\n",
       "       1, 1, 3, 3, 2, 3, 3, 2, 3, 3, 3, 2, 3, 3, 1, 2, 3, 2, 1, 1, 1, 1,\n",
       "       3, 3, 3, 3, 2, 1, 1, 1, 1, 3, 1, 1, 2, 1, 1, 2, 3, 2, 1, 2, 2, 2,\n",
       "       3, 2, 1, 3, 2, 3, 2, 3, 2, 1, 1, 2, 3, 1, 3, 3, 3, 1, 2, 1, 2, 2,\n",
       "       1, 2, 2, 2, 2, 2, 3, 2, 1, 3, 3, 2, 2, 2, 3, 1, 2, 1, 1, 3, 2, 3,\n",
       "       2, 3, 2, 3, 3, 2, 2, 1, 3, 1, 2, 1, 3, 1, 1, 1, 3, 1, 1, 3, 3, 2,\n",
       "       2, 1, 3, 1, 1, 3, 2, 3, 1, 1, 3, 1, 3, 3, 1, 2, 3, 1, 3, 1, 1, 2,\n",
       "       1, 3, 1, 1, 1, 1, 2, 1, 3, 1, 2, 1, 3, 1, 3, 1, 1, 2, 2, 2, 3, 2,\n",
       "       2, 1, 2, 3, 3, 2, 3, 3, 3, 2, 3, 3, 1, 3, 2, 3, 2, 1, 2, 1, 1, 1,\n",
       "       2, 3, 2, 2, 1, 2, 2, 1, 3, 1, 3, 3, 3, 2, 2, 3, 3, 1, 2, 2, 2, 3,\n",
       "       1, 2, 1, 3, 1, 2, 3, 1, 1, 1, 2, 2, 3, 1, 3, 1, 1, 3, 1, 2, 3, 1,\n",
       "       2, 3, 1, 2, 3, 2, 2, 2, 3, 1, 3, 1, 2, 3, 2, 2, 3, 1, 2, 3, 2, 3,\n",
       "       1, 2, 2, 3, 1, 1, 1, 2, 2, 1, 1, 2, 1, 2, 1, 2, 3, 2, 1, 3, 3, 3,\n",
       "       1, 1, 3, 1, 2, 3, 3, 2, 2, 2, 1, 2, 3, 2, 2, 3, 2, 2, 2, 3, 3, 2,\n",
       "       1, 3, 2, 1, 3, 3, 1, 2, 3, 2, 1, 3, 3, 3, 1, 2, 2, 2, 3, 2, 3, 3,\n",
       "       1, 2, 1, 1, 2, 1, 3, 1, 2, 2, 1, 3, 2, 1, 3, 3, 2, 2, 2, 1, 2, 2,\n",
       "       1, 3, 1, 3, 1, 3, 3, 1, 1, 2, 3, 2, 2, 3, 1, 1, 1, 1, 3, 2, 2, 1,\n",
       "       3, 1, 2, 3, 1, 3, 1, 3, 1, 1, 3, 2, 3, 1, 1, 3, 3, 3, 3, 1, 3, 2,\n",
       "       2, 1, 1, 3, 3, 2, 2, 2, 1, 2, 1, 2, 1, 3, 2, 1, 2, 2, 3, 1, 2, 2,\n",
       "       2, 3, 2, 1, 2, 1, 2, 3, 3, 2, 3, 1, 1, 3, 3, 1, 2, 2, 2, 2, 2, 2,\n",
       "       1, 3, 3, 3, 3, 3, 1, 1, 3, 2, 1, 2, 1, 2, 2, 3, 2, 2, 2, 3, 1, 2,\n",
       "       1, 2, 2, 1, 1, 2, 3, 3, 1, 1, 1, 1, 3, 3, 3, 3, 3, 3, 1, 3, 3, 2,\n",
       "       3, 2, 3, 3, 2, 2, 1, 1, 1, 3, 3, 1, 1, 1, 3, 3, 2, 1, 2, 1, 1, 2,\n",
       "       2, 1, 1, 1, 3, 1, 1, 2, 3, 2, 2, 1, 3, 1, 2, 3, 1, 2, 2, 2, 2, 3,\n",
       "       2, 3, 3, 1, 2, 1, 2, 3, 1, 3, 2, 2, 2, 2, 2, 2, 2, 2, 2, 2, 2, 2,\n",
       "       3, 2, 2, 2, 2, 2, 1, 3, 3, 3])"
      ]
     },
     "execution_count": 75,
     "metadata": {},
     "output_type": "execute_result"
    }
   ],
   "source": [
    "classLabelVector.astype(int)"
   ]
  },
  {
   "cell_type": "code",
   "execution_count": 149,
   "metadata": {},
   "outputs": [],
   "source": [
    "import operator\n",
    "def classify0(inX,dataSet,labels,k):\n",
    "    datasetSize=dataSet.shape[0]    # get the number of samples\n",
    "    X=np.tile(inX,(datasetSize,1))  # tile the sample and make the size equal to that of the  training dataset\n",
    "    diffMat=X-dataSet\n",
    "    diffMat=diffMat**2 #to square each element in the array\n",
    "    sqDistance=diffMat.sum(axis=1)\n",
    "    distances=np.sqrt(sqDistance)\n",
    "\n",
    "    sortedDistanceIndices=distances.argsort() # sort the value of distances array in an ascending manner and return the corresponding index\n",
    "\n",
    "    classCount={}\n",
    "    for i in range(k):\n",
    "        voteIlabel=labels[sortedDistanceIndices[i]] #get the ith element in the sortedDistances which indicate the row number of original dataset\n",
    "        classCount[voteIlabel]=classCount.get(voteIlabel,0)+1\n",
    "\n",
    "    sortedClassCount=sorted(classCount.items(),key=operator.itemgetter(1),reverse=True) # return a list of key-value tuple\n",
    "\n",
    "    return sortedClassCount[0][0] #return the first item in the first tuple\n",
    "\n",
    "def file2matrix(filename):\n",
    "    with open(filename) as f:\n",
    "        fileData=[data.strip().split('\\t') for data in f.readlines()]\n",
    "        returnMat=np.array(fileData)[:,:3].astype(float)\n",
    "        classLabelVector=np.array(fileData)[:,3].astype(float).flatten()\n",
    "        return returnMat,classLabelVector\n"
   ]
  },
  {
   "cell_type": "code",
   "execution_count": 150,
   "metadata": {},
   "outputs": [],
   "source": [
    "def autoNorm(dataset):\n",
    "    minVal=dataset.min(0)\n",
    "    maxVal=dataset.max(0)\n",
    "    rangeVal=maxVal-minVal\n",
    "    normVal=dataset-minVal\n",
    "    normVal=normVal/rangeVal\n",
    "    return minVal,maxVal,normVal"
   ]
  },
  {
   "cell_type": "code",
   "execution_count": 87,
   "metadata": {},
   "outputs": [],
   "source": [
    "minVal,maxVal,rangeVal,normVal=autoNorm(returnMat)"
   ]
  },
  {
   "cell_type": "code",
   "execution_count": 88,
   "metadata": {},
   "outputs": [
    {
     "data": {
      "text/plain": [
       "array([0.      , 0.      , 0.001156])"
      ]
     },
     "execution_count": 88,
     "metadata": {},
     "output_type": "execute_result"
    }
   ],
   "source": [
    "minVal"
   ]
  },
  {
   "cell_type": "code",
   "execution_count": 89,
   "metadata": {},
   "outputs": [
    {
     "data": {
      "text/plain": [
       "array([9.1273000e+04, 2.0919349e+01, 1.6955170e+00])"
      ]
     },
     "execution_count": 89,
     "metadata": {},
     "output_type": "execute_result"
    }
   ],
   "source": [
    "maxVal"
   ]
  },
  {
   "cell_type": "code",
   "execution_count": 90,
   "metadata": {},
   "outputs": [
    {
     "data": {
      "text/plain": [
       "array([9.1273000e+04, 2.0919349e+01, 1.6943610e+00])"
      ]
     },
     "execution_count": 90,
     "metadata": {},
     "output_type": "execute_result"
    }
   ],
   "source": [
    "rangeVal"
   ]
  },
  {
   "cell_type": "code",
   "execution_count": 91,
   "metadata": {},
   "outputs": [
    {
     "data": {
      "text/plain": [
       "array([[0.44832535, 0.39805139, 0.56233353],\n",
       "       [0.15873259, 0.34195467, 0.98724416],\n",
       "       [0.28542943, 0.06892523, 0.47449629],\n",
       "       ...,\n",
       "       [0.29115949, 0.50910294, 0.51079493],\n",
       "       [0.52711097, 0.43665451, 0.4290048 ],\n",
       "       [0.47940793, 0.3768091 , 0.78571804]])"
      ]
     },
     "execution_count": 91,
     "metadata": {},
     "output_type": "execute_result"
    }
   ],
   "source": [
    "normVal"
   ]
  },
  {
   "cell_type": "code",
   "execution_count": 165,
   "metadata": {},
   "outputs": [],
   "source": [
    "def datingClassTest():\n",
    "    datingDataMat,datingLabels=file2matrix('datingTestSet2.txt')\n",
    "    hoRatio=0.1\n",
    "    dataNum=len(datingDataMat)\n",
    "    trainingNum=dataNum-int(dataNum*0.1)\n",
    "    testingNum=int(dataNum*0.1)\n",
    "    \n",
    "    indx=list(range(datingDataMat.shape[0]))\n",
    "    np.random.shuffle(indx)\n",
    "    datingDataMat=datingDataMat[indx]\n",
    "    datingLabels=datingLabels[indx]\n",
    "    minVal,maxVal,normVal=autoNorm(datingDataMat)\n",
    "    \n",
    "    X_train,y_train,X_test,y_test=normVal[:trainingNum],datingLabels[:trainingNum],+\\\n",
    "                                  normVal[trainingNum:],datingLabels[trainingNum:]\n",
    "    correctNum=0\n",
    "    for indx,testData in enumerate(X_test):\n",
    "        y_pred=classify0(testData,X_train,y_train,3)\n",
    "        y_true=y_test[indx]\n",
    "        if y_pred==y_true:\n",
    "            correctNum+=1\n",
    "    \n",
    "    acc=correctNum/testingNum    \n",
    "    return X_train,y_train,X_test,y_test,acc"
   ]
  },
  {
   "cell_type": "code",
   "execution_count": 172,
   "metadata": {},
   "outputs": [
    {
     "data": {
      "text/plain": [
       "0.97"
      ]
     },
     "execution_count": 172,
     "metadata": {},
     "output_type": "execute_result"
    }
   ],
   "source": [
    "acc"
   ]
  },
  {
   "cell_type": "code",
   "execution_count": 166,
   "metadata": {},
   "outputs": [],
   "source": [
    "X_train,y_train,X_test,y_test,acc=datingClassTest()"
   ]
  },
  {
   "cell_type": "code",
   "execution_count": 167,
   "metadata": {},
   "outputs": [
    {
     "data": {
      "text/plain": [
       "array([2., 3., 2., 3., 1., 2., 1., 1., 3., 2., 2., 2., 3., 2., 2., 1., 1.,\n",
       "       1., 1., 3., 1., 2., 2., 1., 3., 1., 1., 1., 2., 2., 2., 2., 3., 1.,\n",
       "       2., 3., 1., 3., 3., 3., 3., 1., 3., 1., 3., 1., 3., 2., 1., 1., 3.,\n",
       "       2., 2., 1., 3., 1., 2., 3., 1., 1., 1., 3., 3., 1., 2., 1., 3., 1.,\n",
       "       3., 1., 2., 1., 2., 3., 3., 3., 2., 1., 3., 3., 1., 3., 1., 3., 2.,\n",
       "       1., 2., 3., 3., 1., 2., 3., 3., 2., 1., 2., 2., 1., 3., 2.])"
      ]
     },
     "execution_count": 167,
     "metadata": {},
     "output_type": "execute_result"
    }
   ],
   "source": [
    "y_test"
   ]
  },
  {
   "cell_type": "code",
   "execution_count": 168,
   "metadata": {},
   "outputs": [
    {
     "data": {
      "text/plain": [
       "(900, 3)"
      ]
     },
     "execution_count": 168,
     "metadata": {},
     "output_type": "execute_result"
    }
   ],
   "source": [
    "X_train.shape"
   ]
  },
  {
   "cell_type": "code",
   "execution_count": 169,
   "metadata": {},
   "outputs": [
    {
     "data": {
      "text/plain": [
       "(100, 3)"
      ]
     },
     "execution_count": 169,
     "metadata": {},
     "output_type": "execute_result"
    }
   ],
   "source": [
    "X_test.shape"
   ]
  },
  {
   "cell_type": "code",
   "execution_count": 170,
   "metadata": {},
   "outputs": [
    {
     "data": {
      "text/plain": [
       "array([[3.1054000e+04, 1.1508473e+01, 1.6242960e+00],\n",
       "       [4.6696000e+04, 1.2666325e+01, 9.3196000e-01],\n",
       "       [1.6674000e+04, 4.1839970e+00, 1.2752900e+00],\n",
       "       [1.3499000e+04, 5.8569020e+00, 3.6388300e-01]])"
      ]
     },
     "execution_count": 170,
     "metadata": {},
     "output_type": "execute_result"
    }
   ],
   "source": [
    "datingDataMat[:4]"
   ]
  },
  {
   "cell_type": "code",
   "execution_count": 171,
   "metadata": {},
   "outputs": [
    {
     "data": {
      "text/plain": [
       "array([3., 2., 2., 3., 3., 1., 2., 3., 2., 3., 2., 3., 3., 1., 3., 3., 2.,\n",
       "       2., 3., 3., 2., 3., 3., 2., 1., 1., 1., 2., 3., 3., 3., 2., 2., 1.,\n",
       "       1., 2., 2., 3., 3., 2., 1., 1., 1., 2., 1., 3., 2., 3., 3., 1., 2.,\n",
       "       3., 2., 1., 3., 2., 1., 2., 2., 1., 3., 2., 2., 2., 1., 2., 1., 3.,\n",
       "       1., 2., 1., 1., 1., 3., 2., 1., 3., 3., 1., 2., 3., 1., 1., 2., 2.,\n",
       "       1., 3., 2., 2., 3., 3., 2., 2., 2., 2., 3., 1., 1., 1., 1., 2., 1.,\n",
       "       3., 1., 1., 2., 1., 1., 1., 3., 1., 2., 1., 2., 3., 2., 3., 1., 3.,\n",
       "       2., 2., 3., 1., 2., 3., 3., 3., 3., 3., 2., 2., 3., 2., 3., 3., 2.,\n",
       "       1., 3., 1., 3., 2., 2., 3., 1., 3., 1., 1., 2., 1., 1., 2., 1., 3.,\n",
       "       3., 2., 1., 1., 2., 2., 3., 1., 1., 3., 3., 2., 1., 2., 3., 1., 3.,\n",
       "       2., 1., 1., 3., 2., 1., 1., 1., 1., 1., 1., 2., 3., 2., 1., 1., 3.,\n",
       "       1., 1., 3., 2., 1., 1., 2., 3., 1., 2., 1., 2., 3., 2., 1., 1., 2.,\n",
       "       3., 2., 3., 1., 1., 2., 1., 1., 1., 2., 2., 1., 2., 2., 2., 3., 3.,\n",
       "       1., 1., 1., 2., 1., 3., 3., 2., 3., 2., 1., 2., 3., 1., 1., 2., 1.,\n",
       "       3., 2., 1., 3., 1., 3., 3., 1., 2., 1., 3., 1., 2., 1., 1., 3., 1.,\n",
       "       2., 2., 1., 3., 3., 3., 1., 3., 2., 2., 2., 1., 1., 1., 2., 3., 1.,\n",
       "       2., 1., 1., 2., 2., 3., 3., 3., 3., 2., 1., 2., 2., 3., 3., 1., 2.,\n",
       "       3., 2., 1., 3., 2., 1., 2., 1., 2., 2., 1., 2., 2., 2., 2., 2., 1.,\n",
       "       3., 1., 3., 1., 1., 1., 2., 3., 3., 1., 2., 3., 1., 2., 1., 2., 1.,\n",
       "       3., 2., 3., 3., 2., 3., 3., 2., 2., 3., 2., 1., 1., 3., 2., 2., 3.,\n",
       "       2., 2., 3., 3., 3., 1., 3., 3., 1., 2., 1., 2., 1., 2., 2., 1., 1.,\n",
       "       1., 2., 2., 1., 3., 3., 2., 2., 1., 1., 1., 3., 3., 3., 1., 1., 2.,\n",
       "       3., 3., 1., 3., 2., 1., 2., 1., 1., 1., 3., 1., 1., 1., 1., 2., 2.,\n",
       "       3., 3., 2., 1., 2., 1., 1., 2., 1., 1., 3., 1., 1., 3., 3., 3., 2.,\n",
       "       3., 2., 3., 1., 2., 2., 3., 3., 3., 1., 1., 2., 1., 1., 2., 3., 2.,\n",
       "       3., 3., 3., 3., 1., 1., 3., 2., 3., 3., 2., 1., 3., 1., 3., 2., 2.,\n",
       "       3., 3., 2., 2., 2., 3., 2., 2., 2., 2., 2., 3., 3., 2., 3., 1., 1.,\n",
       "       2., 2., 2., 3., 2., 1., 3., 3., 1., 3., 1., 1., 1., 1., 1., 3., 3.,\n",
       "       1., 2., 3., 1., 2., 1., 3., 2., 3., 1., 1., 3., 3., 3., 1., 1., 1.,\n",
       "       2., 1., 2., 3., 1., 3., 1., 3., 1., 3., 2., 3., 3., 3., 2., 1., 1.,\n",
       "       2., 2., 3., 2., 1., 2., 1., 2., 2., 1., 3., 2., 1., 2., 3., 1., 2.,\n",
       "       3., 1., 3., 3., 2., 2., 3., 1., 3., 3., 1., 2., 3., 1., 3., 2., 3.,\n",
       "       1., 2., 2., 1., 3., 2., 2., 1., 3., 1., 1., 3., 1., 1., 1., 2., 1.,\n",
       "       2., 3., 1., 2., 2., 3., 1., 2., 1., 3., 3., 1., 1., 2., 3., 2., 3.,\n",
       "       2., 3., 2., 3., 1., 1., 1., 1., 1., 2., 3., 3., 1., 1., 1., 1., 2.,\n",
       "       2., 3., 1., 3., 1., 1., 3., 3., 3., 3., 2., 2., 3., 3., 2., 3., 1.,\n",
       "       2., 2., 3., 1., 1., 2., 3., 2., 1., 3., 2., 3., 3., 2., 2., 2., 2.,\n",
       "       2., 3., 3., 2., 2., 3., 3., 3., 1., 1., 1., 3., 2., 2., 2., 1., 2.,\n",
       "       1., 1., 2., 1., 2., 3., 2., 3., 1., 1., 2., 2., 2., 1., 3., 2., 2.,\n",
       "       1., 3., 2., 1., 1., 3., 2., 1., 2., 1., 2., 1., 3., 2., 2., 3., 2.,\n",
       "       3., 2., 2., 3., 2., 2., 2., 2., 1., 2., 2., 2., 1., 1., 3., 2., 3.,\n",
       "       3., 1., 1., 2., 3., 2., 2., 3., 2., 1., 2., 3., 2., 3., 1., 2., 1.,\n",
       "       3., 2., 2., 3., 1., 3., 3., 2., 1., 2., 2., 2., 1., 3., 3., 2., 3.,\n",
       "       1., 2., 3., 1., 1., 2., 3., 2., 3., 2., 2., 1., 3., 3., 3., 3., 1.,\n",
       "       3., 2., 1., 2., 3., 1., 3., 1., 1., 2., 3., 3., 3., 1., 2., 1., 3.,\n",
       "       1., 2., 2., 2., 1., 2., 1., 3., 1., 1., 3., 2., 3., 1., 2., 2., 2.,\n",
       "       1., 2., 2., 1., 3., 1., 1., 3., 1., 3., 2., 1., 3., 2., 2., 3., 3.,\n",
       "       1., 2., 1., 2., 2., 3., 2., 3., 2., 1., 2., 1., 3., 3., 1., 3., 1.,\n",
       "       1., 1., 1., 3., 3., 3., 1., 2., 3., 1., 1., 3., 3., 1., 3., 2., 1.,\n",
       "       2., 3., 2., 1., 3., 2., 3., 3., 2., 2., 1., 3., 3., 1., 3., 3., 3.,\n",
       "       2., 2., 2., 1., 3., 1., 3., 1., 1., 2., 1., 3., 3., 2., 2., 1., 3.,\n",
       "       3., 2., 3., 1., 1., 3., 3., 3., 2., 1., 2., 2., 3., 3., 1., 2., 2.,\n",
       "       1., 1., 2., 3., 1., 2., 2., 1., 1., 1., 1., 2., 3., 3., 3., 3., 3.,\n",
       "       3., 1., 3., 2., 3., 3., 2., 2., 3., 3., 3., 3., 3., 1., 3., 3., 2.,\n",
       "       3., 2., 1., 3., 2., 2., 1., 1., 3., 1., 1., 1., 1., 1., 3., 1., 1.,\n",
       "       1., 3., 1., 3., 2., 3., 3., 1., 2., 2., 3., 1., 1., 3., 3., 2., 2.,\n",
       "       2., 1., 1., 1., 2., 1., 1., 2., 1., 1., 1., 2., 3., 1., 1., 2., 3.,\n",
       "       3., 1., 1., 1., 3., 1., 2., 2., 3., 3., 3., 3., 1., 1., 1., 1., 2.,\n",
       "       2., 2., 1., 2., 2., 2., 3., 2., 1., 2., 3., 3., 1., 1.])"
      ]
     },
     "execution_count": 171,
     "metadata": {},
     "output_type": "execute_result"
    }
   ],
   "source": [
    "datingLabels[indx]"
   ]
  },
  {
   "cell_type": "code",
   "execution_count": 135,
   "metadata": {},
   "outputs": [
    {
     "data": {
      "text/plain": [
       "array([[0.34023205, 0.55013533, 0.95796586],\n",
       "       [0.51160803, 0.60548371, 0.549354  ],\n",
       "       [0.18268272, 0.20000608, 0.75198497],\n",
       "       ...,\n",
       "       [0.44905942, 0.5178578 , 0.93502506],\n",
       "       [0.85044865, 0.76749582, 0.31864284],\n",
       "       [0.54187985, 0.40009213, 0.38689571]])"
      ]
     },
     "execution_count": 135,
     "metadata": {},
     "output_type": "execute_result"
    }
   ],
   "source": [
    "normVal"
   ]
  },
  {
   "cell_type": "code",
   "execution_count": 155,
   "metadata": {},
   "outputs": [
    {
     "data": {
      "text/plain": [
       "2.0"
      ]
     },
     "execution_count": 155,
     "metadata": {},
     "output_type": "execute_result"
    }
   ],
   "source": [
    "y_test"
   ]
  },
  {
   "cell_type": "code",
   "execution_count": null,
   "metadata": {},
   "outputs": [],
   "source": []
  }
 ],
 "metadata": {
  "kernelspec": {
   "display_name": "Python 3",
   "language": "python",
   "name": "python3"
  },
  "language_info": {
   "codemirror_mode": {
    "name": "ipython",
    "version": 3
   },
   "file_extension": ".py",
   "mimetype": "text/x-python",
   "name": "python",
   "nbconvert_exporter": "python",
   "pygments_lexer": "ipython3",
   "version": "3.7.6"
  }
 },
 "nbformat": 4,
 "nbformat_minor": 4
}
